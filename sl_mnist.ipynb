{
 "cells": [
  {
   "cell_type": "code",
   "execution_count": 62,
   "id": "132c6a28",
   "metadata": {},
   "outputs": [],
   "source": [
    "import numpy as np\n",
    "import pandas as pd\n",
    "from keras.datasets import mnist\n",
    "\n",
    "from matplotlib import pyplot\n",
    "import matplotlib.pyplot as plt\n",
    "import matplotlib.image as mpimg\n",
    "\n",
    "# Loading data\n",
    "(train_X, train_Y), (test_X, test_Y) = mnist.load_data()\n",
    "test_data = train_X[:100]"
   ]
  },
  {
   "cell_type": "code",
   "execution_count": 84,
   "id": "527cfd55",
   "metadata": {},
   "outputs": [],
   "source": [
    "# Hyper-paramters\n",
    "# Size of grid to split the image into\n",
    "\n",
    "x_grid_size = 4\n",
    "y_grid_size = 4\n",
    "\n",
    "threshold = 100\n",
    "\n",
    "def biniarize_data(image):\n",
    "    image[image >= threshold] = 100\n",
    "    image[image < threshold] = 0\n",
    "\n",
    "biniarize_data(test_data)\n",
    "\n",
    "# Plotting an example\n",
    "plt.imshow(test_data[0], cmap=\"gray\")"
   ]
  },
  {
   "cell_type": "code",
   "execution_count": 162,
   "id": "5fa46ae7",
   "metadata": {},
   "outputs": [],
   "source": [
    "def centroid(image):\n",
    "    cen_sum = image.sum()\n",
    "    if cen_sum == 0:\n",
    "        return 0, 0\n",
    "    \n",
    "    x_sum = y_sum = 0\n",
    "    for y in range(image.shape[0]):\n",
    "        for x in range(image.shape[1]):\n",
    "            x_sum += x * image[y][x]\n",
    "            y_sum += y * image[y][x]\n",
    "    \n",
    "    centroid_x = x_sum / cen_sum\n",
    "    centroid_y = y_sum / cen_sum\n",
    "    return centroid_x, centroid_y\n",
    "\n",
    "def transform_feature(data):\n",
    "    # Data is N x 28 x 28\n",
    "    centroids = []\n",
    "    for i in range(data.shape[0]):\n",
    "    # Each sample\n",
    "        sliced = slice_array(data[i])\n",
    "        local_centroids = []\n",
    "        for im in sliced:\n",
    "            x,y = centroid(im)\n",
    "            local_centroids.extend([x,y])\n",
    "        centroids.append(local_centroids)\n",
    "        \n",
    "    return np.array(centroids)\n",
    "\n",
    "def slice_array(data):\n",
    "  # Todo make sure we can split the data correctly without raising an error\n",
    "  ystep = data.shape[0] // y_grid_size\n",
    "  xstep = data.shape[1] // x_grid_size\n",
    "  temp = []\n",
    "  for i in range(0, data.shape[0], ystep):\n",
    "    for j in range(0, data.shape[1], xstep):\n",
    "      arr = np.array(data[i:i+ystep, j:j+xstep])\n",
    "      temp.append(arr)\n",
    "  return np.array(temp)"
   ]
  },
  {
   "cell_type": "code",
   "execution_count": 163,
   "id": "6eb97d3b",
   "metadata": {},
   "outputs": [
    {
     "data": {
      "image/png": "[encoded data removed]",
      "text/plain": [
       "<Figure size 216x216 with 16 Axes>"
      ]
     },
     "metadata": {
      "needs_background": "light"
     },
     "output_type": "display_data"
    }
   ],
   "source": [
    "# Plotting a sample from our data after transforming the data\n",
    "# A visualization of how the centroid is calculated for each batch of the image\n",
    "img = slice_array(test_data[0])\n",
    "plt.figure(figsize = (3,3))\n",
    "for i in range(x_grid_size*y_grid_size):\n",
    "    plt.subplot(y_grid_size,x_grid_size,i+1)\n",
    "    x, y = centroid(img[i])\n",
    "    if x != 0 and y != 0:\n",
    "        plt.plot(x,y, 'r*')\n",
    "    plt.imshow(img[i], cmap=\"gray\")\n",
    "    plt.axis('off')\n",
    "\n",
    "plt.subplots_adjust(wspace=0.1, hspace=0.1)"
   ]
  },
  {
   "cell_type": "code",
   "execution_count": 164,
   "id": "73e2b7c2",
   "metadata": {},
   "outputs": [],
   "source": [
    "train_X_trans = transform_feature(train_X)\n",
    "test_X_trans = transform_feature(test_X)"
   ]
  },
  {
   "cell_type": "code",
   "execution_count": 171,
   "id": "8e9f8599",
   "metadata": {},
   "outputs": [],
   "source": [
    "from sklearn.neighbors import KNeighborsClassifier\n",
    "from sklearn.metrics import accuracy_score\n",
    "model = KNeighborsClassifier(n_neighbors=3)\n",
    "model.fit(train_X_trans,train_Y)\n",
    "predicted = model.predict(test_X_trans)\n",
    "\n",
    "accuracy = accuracy_score(test_Y, predicted)"
   ]
  },
  {
   "cell_type": "code",
   "execution_count": 173,
   "id": "e0c3899f",
   "metadata": {},
   "outputs": [
    {
     "data": {
      "text/plain": [
       "0.9141"
      ]
     },
     "execution_count": 173,
     "metadata": {},
     "output_type": "execute_result"
    }
   ],
   "source": [
    "accuracy"
   ]
  }
 ],
 "metadata": {
  "kernelspec": {
   "display_name": "Python 3 (ipykernel)",
   "language": "python",
   "name": "python3"
  },
  "language_info": {
   "codemirror_mode": {
    "name": "ipython",
    "version": 3
   },
   "file_extension": ".py",
   "mimetype": "text/x-python",
   "name": "python",
   "nbconvert_exporter": "python",
   "pygments_lexer": "ipython3",
   "version": "3.9.7"
  }
 },
 "nbformat": 4,
 "nbformat_minor": 5
}
