{
 "cells": [
  {
   "cell_type": "code",
   "execution_count": 50,
   "id": "132c6a28",
   "metadata": {},
   "outputs": [],
   "source": [
    "import numpy as np\n",
    "import pandas as pd\n",
    "from collections import Counter\n",
    "from keras.datasets import mnist\n",
    "\n",
    "from matplotlib import pyplot\n",
    "import matplotlib.pyplot as plt\n",
    "\n",
    "# Loading data\n",
    "(train_X, train_Y), (test_X, test_Y) = mnist.load_data()\n",
    "img_before_binarize = np.array(train_X[0])"
   ]
  },
  {
   "cell_type": "code",
   "execution_count": 51,
   "id": "527cfd55",
   "metadata": {},
   "outputs": [],
   "source": [
    "threshold = 50\n",
    "\n",
    "def biniarize_data(image):\n",
    "    image[image >= threshold] = 100\n",
    "    image[image < threshold] = 0\n",
    "\n",
    "biniarize_data(train_X)\n",
    "biniarize_data(test_X)"
   ]
  },
  {
   "cell_type": "code",
   "execution_count": 52,
   "id": "28682751",
   "metadata": {},
   "outputs": [],
   "source": [
    "n = 20000\n",
    "idx = np.random.choice(np.arange(train_X.shape[0]), size=n)\n",
    "sample_train_X, sample_train_Y = train_X[idx] , train_Y[idx]\n",
    "sample_train_X = transform_feature(sample_train_X)\n",
    "test_X = transform_feature(test_X)"
   ]
  },
  {
   "cell_type": "code",
   "execution_count": 53,
   "id": "7fe077a6",
   "metadata": {},
   "outputs": [],
   "source": [
    "class KNN:\n",
    "    def __init__(self, k):\n",
    "        self.train_X = None\n",
    "        self.train_Y = None\n",
    "        self.k = k\n",
    "\n",
    "    def fit(self, train_X, train_Y):\n",
    "        self.train_X = train_X\n",
    "        self.train_Y = train_Y\n",
    "\n",
    "    def predict(self, X):\n",
    "        predictions = [self._predict(x) for x in X]\n",
    "        return np.array(predictions)\n",
    "\n",
    "    def _predict(self, x):\n",
    "        distances = [np.sum( (_x - x) ** 2) for _x in self.train_X]\n",
    "        k_closest = np.argsort(distances)[:self.k]\n",
    "        labels = [self.train_Y[i] for i in k_closest]\n",
    "        return Counter(labels).most_common(1)[0][0]"
   ]
  },
  {
   "cell_type": "code",
   "execution_count": 54,
   "id": "96b349c2",
   "metadata": {},
   "outputs": [],
   "source": [
    "my_model = KNN(3)\n",
    "my_model.fit(sample_train_X, sample_train_Y)\n",
    "preds = my_model.predict(test_X)\n",
    "accuracy = np.sum(preds == test_Y) / len(test_Y)"
   ]
  },
  {
   "cell_type": "code",
   "execution_count": 55,
   "id": "7d3b071a",
   "metadata": {},
   "outputs": [
    {
     "name": "stdout",
     "output_type": "stream",
     "text": [
      "My KNN classifier acuucracy:  87.39\n"
     ]
    }
   ],
   "source": [
    "print(\"My KNN classifier acuucracy: \", accuracy*100)"
   ]
  },
  {
   "cell_type": "code",
   "execution_count": 25,
   "id": "1c1b3e30",
   "metadata": {
    "scrolled": true
   },
   "outputs": [
    {
     "data": {
      "text/plain": [
       "Text(0.5, 0, 'Before Binarizing')"
      ]
     },
     "execution_count": 25,
     "metadata": {},
     "output_type": "execute_result"
    },
    {
     "data": {
      "image/png": "[encoded data removed]",
      "text/plain": [
       "<Figure size 720x360 with 2 Axes>"
      ]
     },
     "metadata": {
      "needs_background": "light"
     },
     "output_type": "display_data"
    }
   ],
   "source": [
    "fig = plt.figure(figsize=(10,5))\n",
    "fig.suptitle(\"Digit 5\")\n",
    "plt.subplot(1,2, 2)\n",
    "plt.imshow(train_X[0], cmap=\"binary\")\n",
    "plt.xlabel(\"After Binarizing\")\n",
    "plt.subplot(1,2, 1)\n",
    "plt.imshow(img_before_binarize, cmap=\"gray\")\n",
    "plt.xlabel(\"Before Binarizing\")"
   ]
  },
  {
   "cell_type": "code",
   "execution_count": 35,
   "id": "ed62a43c",
   "metadata": {},
   "outputs": [],
   "source": [
    "# Size of grid to split the image into\n",
    "x_grid_size = 4\n",
    "y_grid_size = 4\n",
    "\n",
    "def slice_array(data, x_size, y_size):\n",
    "  # Todo make sure we can split the data correctly without raising an error\n",
    "  ystep = data.shape[0] // x_size\n",
    "  xstep = data.shape[1] // y_size\n",
    "  temp = []\n",
    "  for i in range(0, data.shape[0], ystep):\n",
    "    for j in range(0, data.shape[1], xstep):\n",
    "      arr = np.array(data[i:i+ystep, j:j+xstep])\n",
    "      temp.append(arr)\n",
    "  return np.array(temp)"
   ]
  },
  {
   "cell_type": "code",
   "execution_count": 36,
   "id": "5fa46ae7",
   "metadata": {},
   "outputs": [],
   "source": [
    "def centroid(image):\n",
    "    cen_sum = image.sum()\n",
    "    if cen_sum == 0:\n",
    "        return 0, 0\n",
    "    \n",
    "    x_sum = y_sum = 0\n",
    "    for y in range(image.shape[0]):\n",
    "        for x in range(image.shape[1]):\n",
    "            x_sum += x * image[y][x]\n",
    "            y_sum += y * image[y][x]\n",
    "    \n",
    "    centroid_x = x_sum / cen_sum\n",
    "    centroid_y = y_sum / cen_sum\n",
    "    return centroid_x, centroid_y\n",
    "\n",
    "def transform_feature(data):\n",
    "    # Data is N x 28 x 28\n",
    "    centroids = []\n",
    "    for i in range(data.shape[0]):\n",
    "    # Each sample\n",
    "        sliced = slice_array(data[i],x_grid_size, y_grid_size)\n",
    "        local_centroids = []\n",
    "        for im in sliced:\n",
    "            x,y = centroid(im)\n",
    "            local_centroids.extend([x,y])\n",
    "        centroids.append(local_centroids)\n",
    "    return np.array(centroids)"
   ]
  },
  {
   "cell_type": "code",
   "execution_count": 40,
   "id": "6eb97d3b",
   "metadata": {},
   "outputs": [
    {
     "data": {
      "image/png": "[encoded data removed]",
      "text/plain": [
       "<Figure size 288x288 with 1 Axes>"
      ]
     },
     "metadata": {
      "needs_background": "light"
     },
     "output_type": "display_data"
    },
    {
     "data": {
      "image/png": "[encoded data removed]",
      "text/plain": [
       "<Figure size 288x288 with 16 Axes>"
      ]
     },
     "metadata": {
      "needs_background": "light"
     },
     "output_type": "display_data"
    }
   ],
   "source": [
    "# Plotting an example\n",
    "plt.figure(figsize = (4,4))\n",
    "plt.imshow(train_X[0], cmap=\"gray\")\n",
    "plt.axis('off')\n",
    "\n",
    "# Plotting an example from our data after transforming the data\n",
    "# A visualization of how the centroid is calculated for each batch of the image\n",
    "def split_and_show(n, x_size, y_size):\n",
    "    fig = plt.figure(figsize = (4,4))\n",
    "    img = slice_array(train_X[n],x_size,y_size)\n",
    "    for i in range(x_size*y_size):\n",
    "        plt.subplot(x_size,y_size,i+1)\n",
    "        x, y = centroid(img[i])\n",
    "        if x != 0 and y != 0:\n",
    "            plt.plot(x,y, 'r*')\n",
    "        plt.imshow(img[i], cmap=\"gray\")\n",
    "        plt.axis('off')\n",
    "    plt.subplots_adjust(wspace=0.05, hspace=0.05)\n",
    "    fig.suptitle(\"Digit ({})\".format(train_Y[n]))\n",
    "    \n",
    "split_and_show(0,4,4)"
   ]
  },
  {
   "cell_type": "code",
   "execution_count": 56,
   "id": "8e9f8599",
   "metadata": {},
   "outputs": [],
   "source": [
    "from sklearn.neighbors import KNeighborsClassifier\n",
    "from sklearn.metrics import accuracy_score\n",
    "\n",
    "def build_model(k):\n",
    "    train_X_trans = transform_feature(train_X)\n",
    "    model = KNeighborsClassifier(n_neighbors=k)\n",
    "    model.fit(train_X_trans,train_Y)\n",
    "    return model\n",
    "\n",
    "model = build_model(5)"
   ]
  },
  {
   "cell_type": "code",
   "execution_count": 58,
   "id": "cc5489d2",
   "metadata": {},
   "outputs": [
    {
     "name": "stdout",
     "output_type": "stream",
     "text": [
      "90.99000000000001\n"
     ]
    }
   ],
   "source": [
    "predicted = model.predict(test_X)\n",
    "accuracy = accuracy_score(test_Y, predicted)\n",
    "print(accuracy*100)"
   ]
  },
  {
   "cell_type": "markdown",
   "id": "f37115cd",
   "metadata": {},
   "source": [
    "# Performance Summary\n",
    "Pre-calulcated performance of different built models"
   ]
  },
  {
   "cell_type": "code",
   "execution_count": 55,
   "id": "a0864c0c",
   "metadata": {},
   "outputs": [],
   "source": [
    "model_results = pd.read_csv(\"results.csv\")\n",
    "hist_10k = model_results[model_results.n == 10000]\n",
    "hist_20k = model_results[model_results.n == 20000]\n",
    "hist_60k = model_results[model_results.n == 60000]"
   ]
  },
  {
   "cell_type": "code",
   "execution_count": 56,
   "id": "e0c3899f",
   "metadata": {},
   "outputs": [
    {
     "data": {
      "text/plain": [
       "<matplotlib.legend.Legend at 0x1c99ab1f8e0>"
      ]
     },
     "execution_count": 56,
     "metadata": {},
     "output_type": "execute_result"
    },
    {
     "data": {
      "image/png": "[encoded data removed]",
      "text/plain": [
       "<Figure size 720x360 with 1 Axes>"
      ]
     },
     "metadata": {
      "needs_background": "light"
     },
     "output_type": "display_data"
    }
   ],
   "source": [
    "grid = [\"[2, 4]\", \"[4, 2]\", \"[4, 4]\", \"[7, 7]\"]\n",
    "data = hist_10k\n",
    "\n",
    "plt.figure(figsize=(10,5))\n",
    "plt.ylim([0.80,0.93])\n",
    "\n",
    "c = 1\n",
    "for i in grid:\n",
    "    tmp = data[data.grid == i]\n",
    "    ls=['--','solid','dashed','-.'][c%4]\n",
    "    plt.plot(tmp.K, tmp.Acc, linestyle=ls, label=i)\n",
    "    c += 1\n",
    "\n",
    "plt.ylabel(\"Accuracy\")\n",
    "plt.xlabel(\"K\")\n",
    "plt.title(\"N = 10,000\")\n",
    "plt.grid()\n",
    "plt.legend(loc=0,title=\"Grid Size\")"
   ]
  },
  {
   "cell_type": "code",
   "execution_count": 57,
   "id": "88dd822a",
   "metadata": {},
   "outputs": [
    {
     "name": "stdout",
     "output_type": "stream",
     "text": [
      "Max accuracy for different N\n",
      "n        10000\n",
      "grid    [4, 4]\n",
      "K            6\n",
      "Acc     0.8898\n",
      "\n",
      "n        20000\n",
      "grid    [4, 4]\n",
      "K            5\n",
      "Acc     0.9025\n",
      "\n",
      "n        60000\n",
      "grid    [4, 4]\n",
      "K            6\n",
      "Acc     0.9141\n",
      "\n"
     ]
    }
   ],
   "source": [
    "max_acc = []\n",
    "max_acc.append(hist_10k.loc[hist_10k.Acc.idxmax()])\n",
    "max_acc.append(hist_20k.loc[hist_20k.Acc.idxmax()])\n",
    "max_acc.append(hist_60k.loc[hist_60k.Acc.idxmax()])\n",
    "\n",
    "print(\"Max accuracy for different N\")\n",
    "for i in max_acc:\n",
    "    print(i.to_string() + \"\\n\")"
   ]
  }
 ],
 "metadata": {
  "kernelspec": {
   "display_name": "Python 3 (ipykernel)",
   "language": "python",
   "name": "python3"
  },
  "language_info": {
   "codemirror_mode": {
    "name": "ipython",
    "version": 3
   },
   "file_extension": ".py",
   "mimetype": "text/x-python",
   "name": "python",
   "nbconvert_exporter": "python",
   "pygments_lexer": "ipython3",
   "version": "3.9.7"
  }
 },
 "nbformat": 4,
 "nbformat_minor": 5
}
