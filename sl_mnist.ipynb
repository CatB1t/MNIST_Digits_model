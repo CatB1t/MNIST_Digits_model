{
 "cells": [
  {
   "cell_type": "code",
   "execution_count": 99,
   "id": "132c6a28",
   "metadata": {},
   "outputs": [],
   "source": [
    "import numpy as np\n",
    "import pandas as pd\n",
    "from keras.datasets import mnist\n",
    "\n",
    "from matplotlib import pyplot\n",
    "import matplotlib.pyplot as plt\n",
    "import matplotlib.image as mpimg\n",
    "\n",
    "# Loading data\n",
    "(train_X, train_Y), (test_X, test_Y) = mnist.load_data()\n",
    "img_before_binarize = np.array(train_X[0])"
   ]
  },
  {
   "cell_type": "code",
   "execution_count": 100,
   "id": "527cfd55",
   "metadata": {},
   "outputs": [],
   "source": [
    "threshold = 100\n",
    "\n",
    "def biniarize_data(image):\n",
    "    image[image >= threshold] = 100\n",
    "    image[image < threshold] = 0\n",
    "\n",
    "biniarize_data(train_X)"
   ]
  },
  {
   "cell_type": "code",
   "execution_count": 135,
   "id": "1c1b3e30",
   "metadata": {},
   "outputs": [
    {
     "data": {
      "text/plain": [
       "Text(0.5, 0, 'Before Binarizing')"
      ]
     },
     "execution_count": 135,
     "metadata": {},
     "output_type": "execute_result"
    },
    {
     "data": {
      "image/png": "[encoded data removed]",
      "text/plain": [
       "<Figure size 720x360 with 2 Axes>"
      ]
     },
     "metadata": {
      "needs_background": "light"
     },
     "output_type": "display_data"
    }
   ],
   "source": [
    "fig = plt.figure(figsize=(10,5))\n",
    "fig.suptitle(\"Digit 5\")\n",
    "plt.subplot(1,2, 2)\n",
    "plt.imshow(train_X[0], cmap=\"gray\")\n",
    "plt.xlabel(\"After Binarizing\")\n",
    "plt.subplot(1,2, 1)\n",
    "plt.imshow(img_before_binarize, cmap=\"gray\")\n",
    "plt.xlabel(\"Before Binarizing\")"
   ]
  },
  {
   "cell_type": "code",
   "execution_count": 43,
   "id": "4dff1285",
   "metadata": {},
   "outputs": [],
   "source": [
    "n = 10000\n",
    "idx = np.random.choice(np.arange(train_X.shape[0]), size=n)\n",
    "sample_X = train_X[idx]\n",
    "sample_Y = train_Y[idx]"
   ]
  },
  {
   "cell_type": "code",
   "execution_count": 254,
   "id": "ed62a43c",
   "metadata": {},
   "outputs": [],
   "source": [
    "# Size of grid to split the image into\n",
    "x_grid_size = 4\n",
    "y_grid_size = 4\n",
    "\n",
    "def slice_array(data, x_size, y_size):\n",
    "  # Todo make sure we can split the data correctly without raising an error\n",
    "  ystep = data.shape[0] // x_size\n",
    "  xstep = data.shape[1] // y_size\n",
    "  temp = []\n",
    "  for i in range(0, data.shape[0], ystep):\n",
    "    for j in range(0, data.shape[1], xstep):\n",
    "      arr = np.array(data[i:i+ystep, j:j+xstep])\n",
    "      temp.append(arr)\n",
    "  return np.array(temp)"
   ]
  },
  {
   "cell_type": "code",
   "execution_count": 211,
   "id": "5fa46ae7",
   "metadata": {},
   "outputs": [],
   "source": [
    "def centroid(image):\n",
    "    cen_sum = image.sum()\n",
    "    if cen_sum == 0:\n",
    "        return 0, 0\n",
    "    \n",
    "    x_sum = y_sum = 0\n",
    "    for y in range(image.shape[0]):\n",
    "        for x in range(image.shape[1]):\n",
    "            x_sum += x * image[y][x]\n",
    "            y_sum += y * image[y][x]\n",
    "    \n",
    "    centroid_x = x_sum / cen_sum\n",
    "    centroid_y = y_sum / cen_sum\n",
    "    return centroid_x, centroid_y\n",
    "\n",
    "def transform_feature(data):\n",
    "    # Data is N x 28 x 28\n",
    "    centroids = []\n",
    "    for i in range(data.shape[0]):\n",
    "    # Each sample\n",
    "        sliced = slice_array(data[i],x_grid_size, y_grid_size)\n",
    "        local_centroids = []\n",
    "        for im in sliced:\n",
    "            x,y = centroid(im)\n",
    "            local_centroids.extend([x,y])\n",
    "        centroids.append(local_centroids)\n",
    "    return np.array(centroids)"
   ]
  },
  {
   "cell_type": "code",
   "execution_count": 206,
   "id": "6eb97d3b",
   "metadata": {},
   "outputs": [
    {
     "data": {
      "image/png": "[encoded data removed]",
      "text/plain": [
       "<Figure size 288x288 with 16 Axes>"
      ]
     },
     "metadata": {
      "needs_background": "light"
     },
     "output_type": "display_data"
    },
    {
     "data": {
      "image/png": "[encoded data removed]",
      "text/plain": [
       "<Figure size 288x288 with 16 Axes>"
      ]
     },
     "metadata": {
      "needs_background": "light"
     },
     "output_type": "display_data"
    },
    {
     "data": {
      "image/png": "[encoded data removed]",
      "text/plain": [
       "<Figure size 288x288 with 16 Axes>"
      ]
     },
     "metadata": {
      "needs_background": "light"
     },
     "output_type": "display_data"
    }
   ],
   "source": [
    "# Plotting an example\n",
    "#plt.figure(figsize = (4,4))\n",
    "#plt.imshow(sample_X[0], cmap=\"gray\")\n",
    "#plt.axis('off')\n",
    "\n",
    "# Plotting an example from our data after transforming the data\n",
    "# A visualization of how the centroid is calculated for each batch of the image\n",
    "def split_and_show(n, x_size, y_size):\n",
    "    fig = plt.figure(figsize = (4,4))\n",
    "    img = slice_array(sample_X[n],x_size,y_size)\n",
    "    for i in range(x_size*y_size):\n",
    "        plt.subplot(x_size,y_size,i+1)\n",
    "        x, y = centroid(img[i])\n",
    "        if x != 0 and y != 0:\n",
    "            plt.plot(x,y, 'r*')\n",
    "        plt.imshow(img[i], cmap=\"gray\")\n",
    "        plt.axis('off')\n",
    "    plt.subplots_adjust(wspace=0.05, hspace=0.05)\n",
    "    fig.suptitle(\"Digit ({})\".format(sample_Y[n]))\n",
    "    \n",
    "split_and_show(4,4,4)\n",
    "split_and_show(1,4,4)\n",
    "split_and_show(6,4,4)"
   ]
  },
  {
   "cell_type": "code",
   "execution_count": 302,
   "id": "6730bda3",
   "metadata": {},
   "outputs": [],
   "source": [
    "model_results = pd.DataFrame(columns=[\"n\", \"grid\", \"K\",\"Acc\"])"
   ]
  },
  {
   "cell_type": "code",
   "execution_count": 303,
   "id": "8e9f8599",
   "metadata": {},
   "outputs": [],
   "source": [
    "from sklearn.neighbors import KNeighborsClassifier\n",
    "from sklearn.metrics import accuracy_score\n",
    "\n",
    "def build_model(k):\n",
    "    model = KNeighborsClassifier(n_neighbors=k)\n",
    "    model.fit(train_X_trans,sample_Y)\n",
    "    predicted = model.predict(test_X_trans)\n",
    "    accuracy = accuracy_score(test_Y, predicted)\n",
    "    return accuracy\n",
    "\n",
    "#(X, y)\n",
    "grid = [[2,4], [4,2] , [4,4], [7,7]]\n",
    "n = [10000, 20000, 60000]\n",
    "for sampleSize in n:\n",
    "    idx = np.random.choice(np.arange(train_X.shape[0]), size=sampleSize)\n",
    "    sample_X = train_X[idx]\n",
    "    sample_Y = train_Y[idx]\n",
    "    for i in grid:\n",
    "        test_X_trans = transform_feature(test_X)\n",
    "        train_X_trans = transform_feature(sample_X)\n",
    "        x_grid_size = i[0]\n",
    "        y_grid_size = i[1]\n",
    "        for j in range(2,8):\n",
    "            acc = build_model(j)\n",
    "            model_results = model_results.append({\"n\" : sampleSize, \"grid\": i, \"K\" : j, \"Acc\" : acc}, ignore_index=True)"
   ]
  },
  {
   "cell_type": "markdown",
   "id": "f37115cd",
   "metadata": {},
   "source": [
    "# Gap"
   ]
  },
  {
   "cell_type": "code",
   "execution_count": 335,
   "id": "a0864c0c",
   "metadata": {},
   "outputs": [],
   "source": [
    "model_results.to_csv(\"results.csv\")\n",
    "hist_10k = model_results[model_results.n == 10000]\n",
    "hist_20k = model_results[model_results.n == 20000]\n",
    "hist_60k = model_results[model_results.n == 60000]"
   ]
  },
  {
   "cell_type": "code",
   "execution_count": 333,
   "id": "e0c3899f",
   "metadata": {},
   "outputs": [
    {
     "name": "stdout",
     "output_type": "stream",
     "text": [
      "0     [2, 4]\n",
      "1     [2, 4]\n",
      "2     [2, 4]\n",
      "3     [2, 4]\n",
      "4     [2, 4]\n",
      "5     [2, 4]\n",
      "6     [4, 2]\n",
      "7     [4, 2]\n",
      "8     [4, 2]\n",
      "9     [4, 2]\n",
      "10    [4, 2]\n",
      "11    [4, 2]\n",
      "12    [4, 4]\n",
      "13    [4, 4]\n",
      "14    [4, 4]\n",
      "15    [4, 4]\n",
      "16    [4, 4]\n",
      "17    [4, 4]\n",
      "18    [7, 7]\n",
      "19    [7, 7]\n",
      "20    [7, 7]\n",
      "21    [7, 7]\n",
      "22    [7, 7]\n",
      "23    [7, 7]\n",
      "Name: grid, dtype: object\n"
     ]
    },
    {
     "ename": "ValueError",
     "evalue": "('Lengths must match to compare', (24,), (2,))",
     "output_type": "error",
     "traceback": [
      "\u001b[1;31m---------------------------------------------------------------------------\u001b[0m",
      "\u001b[1;31mValueError\u001b[0m                                Traceback (most recent call last)",
      "\u001b[1;32m~\\AppData\\Local\\Temp/ipykernel_22424/1053043680.py\u001b[0m in \u001b[0;36m<module>\u001b[1;34m\u001b[0m\n\u001b[0;32m      1\u001b[0m \u001b[0mprint\u001b[0m\u001b[1;33m(\u001b[0m\u001b[0mhist_10k\u001b[0m\u001b[1;33m[\u001b[0m\u001b[1;34m\"grid\"\u001b[0m\u001b[1;33m]\u001b[0m\u001b[1;33m)\u001b[0m\u001b[1;33m\u001b[0m\u001b[1;33m\u001b[0m\u001b[0m\n\u001b[0;32m      2\u001b[0m \u001b[0mr\u001b[0m \u001b[1;33m=\u001b[0m \u001b[1;33m[\u001b[0m\u001b[1;36m4\u001b[0m\u001b[1;33m,\u001b[0m\u001b[1;36m4\u001b[0m\u001b[1;33m]\u001b[0m\u001b[1;33m\u001b[0m\u001b[1;33m\u001b[0m\u001b[0m\n\u001b[1;32m----> 3\u001b[1;33m \u001b[0mhist_10k_4x4\u001b[0m \u001b[1;33m=\u001b[0m \u001b[0mhist_10k\u001b[0m\u001b[1;33m[\u001b[0m\u001b[0mhist_10k\u001b[0m\u001b[1;33m.\u001b[0m\u001b[0mgrid\u001b[0m \u001b[1;33m==\u001b[0m \u001b[0mr\u001b[0m\u001b[1;33m]\u001b[0m\u001b[1;33m\u001b[0m\u001b[1;33m\u001b[0m\u001b[0m\n\u001b[0m\u001b[0;32m      4\u001b[0m \u001b[1;31m#print(hist_10k_2x2)\u001b[0m\u001b[1;33m\u001b[0m\u001b[1;33m\u001b[0m\u001b[0m\n\u001b[0;32m      5\u001b[0m \u001b[1;31m#plt.plot(hist_10000_7x7.K, hist_10000_7x7.Acc)\u001b[0m\u001b[1;33m\u001b[0m\u001b[1;33m\u001b[0m\u001b[0m\n",
      "\u001b[1;32mC:\\ProgramData\\Anaconda3\\lib\\site-packages\\pandas\\core\\ops\\common.py\u001b[0m in \u001b[0;36mnew_method\u001b[1;34m(self, other)\u001b[0m\n\u001b[0;32m     67\u001b[0m         \u001b[0mother\u001b[0m \u001b[1;33m=\u001b[0m \u001b[0mitem_from_zerodim\u001b[0m\u001b[1;33m(\u001b[0m\u001b[0mother\u001b[0m\u001b[1;33m)\u001b[0m\u001b[1;33m\u001b[0m\u001b[1;33m\u001b[0m\u001b[0m\n\u001b[0;32m     68\u001b[0m \u001b[1;33m\u001b[0m\u001b[0m\n\u001b[1;32m---> 69\u001b[1;33m         \u001b[1;32mreturn\u001b[0m \u001b[0mmethod\u001b[0m\u001b[1;33m(\u001b[0m\u001b[0mself\u001b[0m\u001b[1;33m,\u001b[0m \u001b[0mother\u001b[0m\u001b[1;33m)\u001b[0m\u001b[1;33m\u001b[0m\u001b[1;33m\u001b[0m\u001b[0m\n\u001b[0m\u001b[0;32m     70\u001b[0m \u001b[1;33m\u001b[0m\u001b[0m\n\u001b[0;32m     71\u001b[0m     \u001b[1;32mreturn\u001b[0m \u001b[0mnew_method\u001b[0m\u001b[1;33m\u001b[0m\u001b[1;33m\u001b[0m\u001b[0m\n",
      "\u001b[1;32mC:\\ProgramData\\Anaconda3\\lib\\site-packages\\pandas\\core\\arraylike.py\u001b[0m in \u001b[0;36m__eq__\u001b[1;34m(self, other)\u001b[0m\n\u001b[0;32m     30\u001b[0m     \u001b[1;33m@\u001b[0m\u001b[0munpack_zerodim_and_defer\u001b[0m\u001b[1;33m(\u001b[0m\u001b[1;34m\"__eq__\"\u001b[0m\u001b[1;33m)\u001b[0m\u001b[1;33m\u001b[0m\u001b[1;33m\u001b[0m\u001b[0m\n\u001b[0;32m     31\u001b[0m     \u001b[1;32mdef\u001b[0m \u001b[0m__eq__\u001b[0m\u001b[1;33m(\u001b[0m\u001b[0mself\u001b[0m\u001b[1;33m,\u001b[0m \u001b[0mother\u001b[0m\u001b[1;33m)\u001b[0m\u001b[1;33m:\u001b[0m\u001b[1;33m\u001b[0m\u001b[1;33m\u001b[0m\u001b[0m\n\u001b[1;32m---> 32\u001b[1;33m         \u001b[1;32mreturn\u001b[0m \u001b[0mself\u001b[0m\u001b[1;33m.\u001b[0m\u001b[0m_cmp_method\u001b[0m\u001b[1;33m(\u001b[0m\u001b[0mother\u001b[0m\u001b[1;33m,\u001b[0m \u001b[0moperator\u001b[0m\u001b[1;33m.\u001b[0m\u001b[0meq\u001b[0m\u001b[1;33m)\u001b[0m\u001b[1;33m\u001b[0m\u001b[1;33m\u001b[0m\u001b[0m\n\u001b[0m\u001b[0;32m     33\u001b[0m \u001b[1;33m\u001b[0m\u001b[0m\n\u001b[0;32m     34\u001b[0m     \u001b[1;33m@\u001b[0m\u001b[0munpack_zerodim_and_defer\u001b[0m\u001b[1;33m(\u001b[0m\u001b[1;34m\"__ne__\"\u001b[0m\u001b[1;33m)\u001b[0m\u001b[1;33m\u001b[0m\u001b[1;33m\u001b[0m\u001b[0m\n",
      "\u001b[1;32mC:\\ProgramData\\Anaconda3\\lib\\site-packages\\pandas\\core\\series.py\u001b[0m in \u001b[0;36m_cmp_method\u001b[1;34m(self, other, op)\u001b[0m\n\u001b[0;32m   5500\u001b[0m \u001b[1;33m\u001b[0m\u001b[0m\n\u001b[0;32m   5501\u001b[0m         \u001b[1;32mwith\u001b[0m \u001b[0mnp\u001b[0m\u001b[1;33m.\u001b[0m\u001b[0merrstate\u001b[0m\u001b[1;33m(\u001b[0m\u001b[0mall\u001b[0m\u001b[1;33m=\u001b[0m\u001b[1;34m\"ignore\"\u001b[0m\u001b[1;33m)\u001b[0m\u001b[1;33m:\u001b[0m\u001b[1;33m\u001b[0m\u001b[1;33m\u001b[0m\u001b[0m\n\u001b[1;32m-> 5502\u001b[1;33m             \u001b[0mres_values\u001b[0m \u001b[1;33m=\u001b[0m \u001b[0mops\u001b[0m\u001b[1;33m.\u001b[0m\u001b[0mcomparison_op\u001b[0m\u001b[1;33m(\u001b[0m\u001b[0mlvalues\u001b[0m\u001b[1;33m,\u001b[0m \u001b[0mrvalues\u001b[0m\u001b[1;33m,\u001b[0m \u001b[0mop\u001b[0m\u001b[1;33m)\u001b[0m\u001b[1;33m\u001b[0m\u001b[1;33m\u001b[0m\u001b[0m\n\u001b[0m\u001b[0;32m   5503\u001b[0m \u001b[1;33m\u001b[0m\u001b[0m\n\u001b[0;32m   5504\u001b[0m         \u001b[1;32mreturn\u001b[0m \u001b[0mself\u001b[0m\u001b[1;33m.\u001b[0m\u001b[0m_construct_result\u001b[0m\u001b[1;33m(\u001b[0m\u001b[0mres_values\u001b[0m\u001b[1;33m,\u001b[0m \u001b[0mname\u001b[0m\u001b[1;33m=\u001b[0m\u001b[0mres_name\u001b[0m\u001b[1;33m)\u001b[0m\u001b[1;33m\u001b[0m\u001b[1;33m\u001b[0m\u001b[0m\n",
      "\u001b[1;32mC:\\ProgramData\\Anaconda3\\lib\\site-packages\\pandas\\core\\ops\\array_ops.py\u001b[0m in \u001b[0;36mcomparison_op\u001b[1;34m(left, right, op)\u001b[0m\n\u001b[0;32m    259\u001b[0m         \u001b[1;31m#  The ambiguous case is object-dtype.  See GH#27803\u001b[0m\u001b[1;33m\u001b[0m\u001b[1;33m\u001b[0m\u001b[0m\n\u001b[0;32m    260\u001b[0m         \u001b[1;32mif\u001b[0m \u001b[0mlen\u001b[0m\u001b[1;33m(\u001b[0m\u001b[0mlvalues\u001b[0m\u001b[1;33m)\u001b[0m \u001b[1;33m!=\u001b[0m \u001b[0mlen\u001b[0m\u001b[1;33m(\u001b[0m\u001b[0mrvalues\u001b[0m\u001b[1;33m)\u001b[0m\u001b[1;33m:\u001b[0m\u001b[1;33m\u001b[0m\u001b[1;33m\u001b[0m\u001b[0m\n\u001b[1;32m--> 261\u001b[1;33m             raise ValueError(\n\u001b[0m\u001b[0;32m    262\u001b[0m                 \u001b[1;34m\"Lengths must match to compare\"\u001b[0m\u001b[1;33m,\u001b[0m \u001b[0mlvalues\u001b[0m\u001b[1;33m.\u001b[0m\u001b[0mshape\u001b[0m\u001b[1;33m,\u001b[0m \u001b[0mrvalues\u001b[0m\u001b[1;33m.\u001b[0m\u001b[0mshape\u001b[0m\u001b[1;33m\u001b[0m\u001b[1;33m\u001b[0m\u001b[0m\n\u001b[0;32m    263\u001b[0m             )\n",
      "\u001b[1;31mValueError\u001b[0m: ('Lengths must match to compare', (24,), (2,))"
     ]
    }
   ],
   "source": [
    "print(hist_10k[\"grid\"])\n",
    "#r = [4,4]\n",
    "hist_10k_4x4 = hist_10k[hist_10k.grid == r]\n",
    "print(hist_10k_2x2)\n",
    "#plt.plot(hist_10000_7x7.K, hist_10000_7x7.Acc)\n",
    "#plt.ylabel(\"Accuracy\")\n",
    "#plt.xlabel(\"K\")\n",
    "#plt.title(\"10000 Sample\")"
   ]
  },
  {
   "cell_type": "code",
   "execution_count": null,
   "id": "3af6dfcd",
   "metadata": {},
   "outputs": [],
   "source": []
  }
 ],
 "metadata": {
  "kernelspec": {
   "display_name": "Python 3 (ipykernel)",
   "language": "python",
   "name": "python3"
  },
  "language_info": {
   "codemirror_mode": {
    "name": "ipython",
    "version": 3
   },
   "file_extension": ".py",
   "mimetype": "text/x-python",
   "name": "python",
   "nbconvert_exporter": "python",
   "pygments_lexer": "ipython3",
   "version": "3.9.7"
  }
 },
 "nbformat": 4,
 "nbformat_minor": 5
}
